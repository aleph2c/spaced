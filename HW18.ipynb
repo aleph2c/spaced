{
 "cells": [
  {
   "cell_type": "markdown",
   "metadata": {},
   "source": [
    "# HW 18 - Python Calculations, Symbolic Solutions, Units"
   ]
  },
  {
   "cell_type": "markdown",
   "metadata": {},
   "source": [
    "### Problem 1"
   ]
  },
  {
   "cell_type": "markdown",
   "metadata": {},
   "source": [
    "#### Show the current Python version"
   ]
  },
  {
   "cell_type": "code",
   "execution_count": 2,
   "metadata": {},
   "outputs": [
    {
     "name": "stdout",
     "output_type": "stream",
     "text": [
      "3.5.2 (default, Nov 12 2018, 13:43:14) \n",
      "[GCC 5.4.0 20160609]\n",
      "3.5.2\n"
     ]
    }
   ],
   "source": [
    "import sys\n",
    "print(sys.version)\n",
    "\n",
    "import platform\n",
    "print(platform.python_version())"
   ]
  },
  {
   "cell_type": "markdown",
   "metadata": {},
   "source": [
    "### Problem 2\n",
    "#### Part a\n",
    "Evaluate the following expression when $x=4$. Define what x is before entering the equation.\n",
    "$$\\left(x^{0.5}+\\frac{1}{x}\\right)^{-2}.$$\n",
    "#### Part b\n",
    "Evaluate the following expression when $r=10$ and $x=3.54$. Define what x and r are before entering the equation.\n",
    "$$\\sqrt[3]{\\frac{4}{3}\\pi r^3} - e^x.$$\n",
    "\n"
   ]
  },
  {
   "cell_type": "code",
   "execution_count": 8,
   "metadata": {},
   "outputs": [
    {
     "name": "stdout",
     "output_type": "stream",
     "text": [
      "0.19753086419753085\n",
      "16/81\n",
      "-18.346999650692695\n"
     ]
    }
   ],
   "source": [
    "x=4.0\n",
    "print((x**0.5+1.0/x)**-2)\n",
    "\n",
    "import sympy as sym\n",
    "x = sym.Symbol('x')\n",
    "f = (sym.sqrt(x)+1/x)**-2\n",
    "print(f.subs(x,4))\n",
    "\n",
    "r = 10\n",
    "x = 3.54\n",
    "import numpy as np\n",
    "f = ((4/3)*np.pi*r**3)**(1.0/3.0) - np.exp(x)\n",
    "print(f)"
   ]
  },
  {
   "cell_type": "markdown",
   "metadata": {},
   "source": [
    "### Problem 3\n",
    "Evaluate the following expression.  Where c is the speed of light, g is the gravitational constant, and $\\pi$ is 3.14\n",
    "\n",
    "$$\\frac{c \\; g}{\\pi}$$ "
   ]
  },
  {
   "cell_type": "markdown",
   "metadata": {},
   "source": [
    "### Problem 4\n",
    "Symbolically simplify the following expression in two different ways. The first time, the output should not give a number but an equation that includes x. The second time simplify the expression with $x=1$.\n",
    "$$ \\frac{x}{x+4}-\\frac{12}{x+2}.$$"
   ]
  },
  {
   "cell_type": "code",
   "execution_count": 13,
   "metadata": {},
   "outputs": [
    {
     "name": "stdout",
     "output_type": "stream",
     "text": [
      "  x       12 \n",
      "───── - ─────\n",
      "x + 4   x + 2\n"
     ]
    },
    {
     "data": {
      "text/plain": [
       "-3.8"
      ]
     },
     "execution_count": 13,
     "metadata": {},
     "output_type": "execute_result"
    }
   ],
   "source": [
    "x = sym.Symbol('x')\n",
    "f = x/(x+4)-12/(x+2)\n",
    "sym.pprint(f)\n",
    "g = f.subs(x, 1)\n",
    "float(g)"
   ]
  },
  {
   "cell_type": "markdown",
   "metadata": {},
   "source": [
    "### Problem 5\n",
    "Symbolically expand the following expression as an equation that includes $x$. \n",
    "$$\\left(x+1\\right)^7$$"
   ]
  },
  {
   "cell_type": "code",
   "execution_count": 12,
   "metadata": {},
   "outputs": [
    {
     "data": {
      "text/plain": [
       "x**7 + 7*x**6 + 21*x**5 + 35*x**4 + 35*x**3 + 21*x**2 + 7*x + 1"
      ]
     },
     "execution_count": 12,
     "metadata": {},
     "output_type": "execute_result"
    }
   ],
   "source": [
    "f = (x+1)**7\n",
    "g = sym.expand(f)\n",
    "g"
   ]
  },
  {
   "cell_type": "markdown",
   "metadata": {},
   "source": [
    "### Problem 6\n",
    "Symbolically factor the following expression. The output should not give a number but an equation that includes $x$.\n",
    "$$x^5 + 10x^4 + 35x^3 + 50x^2 + 24x$$"
   ]
  },
  {
   "cell_type": "code",
   "execution_count": 16,
   "metadata": {},
   "outputs": [
    {
     "name": "stdout",
     "output_type": "stream",
     "text": [
      "x⋅(x + 1)⋅(x + 2)⋅(x + 3)⋅(x + 4)\n"
     ]
    }
   ],
   "source": [
    "f = x**5 + 10*x**4 + 35*x**3 + 50*x**2 + 24*x\n",
    "g = sym.factor(f)\n",
    "sym.pprint(g)"
   ]
  },
  {
   "cell_type": "markdown",
   "metadata": {},
   "source": [
    "### Problem 7\n",
    "Solve for $x$ and $y$ for the following two functions:\n",
    "$$f(x,y) = x^2 + y^2 - 10.0$$\n",
    "$$g(x,y) = x + y + 3.0$$\n",
    "You should get $x=0.1583124$, $y = -3.1583124$ if you start with $x=y=1$ as an initial guess."
   ]
  },
  {
   "cell_type": "code",
   "execution_count": 28,
   "metadata": {},
   "outputs": [
    {
     "name": "stdout",
     "output_type": "stream",
     "text": [
      "[-8.0, 5.0]\n",
      "0.1583123951777235 -3.158312395177724\n",
      "[{y: 0.158312395177700, x: -3.15831239517770}, {y: -3.15831239517770, x: 0.158312395177700}]\n"
     ]
    }
   ],
   "source": [
    "from scipy.optimize import fsolve\n",
    "def h(z):\n",
    "    x = z[0]\n",
    "    y = z[1]\n",
    "    f = x**2 + y**2 - 10.0\n",
    "    g = x+y+3.0\n",
    "    return [f, g]\n",
    "\n",
    "z0 = [1,1]\n",
    "print(h(z0))\n",
    "ans = fsolve(h, z0)\n",
    "x, y = ans\n",
    "print(x, y)\n",
    "\n",
    "x, y = sym.symbols('x y')\n",
    "e1 = sym.Eq(x**2+y**2, 10.0)\n",
    "e2 = sym.Eq(x+y+3.0)\n",
    "ans = sym.solve([e1, e2])\n",
    "print(ans)"
   ]
  },
  {
   "cell_type": "markdown",
   "metadata": {},
   "source": [
    "### Problem 8\n",
    "a) Convert the speed of light, $2.998x10^8$ m/sec, to miles per hour.\n",
    "\n",
    "b) Convert the density of water at room temperature, 62.4 lbm/ft3, to kg/m3.\n",
    "\n",
    "c) Convert the ideal gas constant, Rg = 0.08206 L atm/(mole K), to Joules/(mole K)\n",
    "\n",
    "d) Convert the idea gas constant, Rg, to BTU/(lbmol Rankine).\n",
    "\n",
    "e) Convert 300 cubits to yards."
   ]
  },
  {
   "cell_type": "markdown",
   "metadata": {},
   "source": [
    "### Problem 9\n",
    "The volume of a cylinder is given by $V = \\pi R^2L$. Find the volume of a cylindrical tank in units of gallons, when $R=25$ ft, and $L=5$ meters."
   ]
  },
  {
   "cell_type": "markdown",
   "metadata": {},
   "source": [
    "### Problem 10\n",
    "The rate of heat transfer from a heated flat plate with a cool fluid stream flowing across it is given by : \n",
    "$$ Nu = 0.332\\sqrt[3]{Pr}\\sqrt{Re},$$\n",
    "where $Nu = hL/k$ is the dimensionless Nusselt Number, $Pr=\\mu c_p/k$ is the dimensionless Prandtl number, and $Re=vL\\rho/\\mu$ is the dimensionless Reynolds number. In these equations $h$ is the heat transfer coefficient, $L$ is the length of the plate, $k$ is the thermal conductivity of the fluid, $\\mu$ is the fluid viscosity and $c_p$ is the fluid heat capacity. **The heat transfer rate $q$ is given by $q=h\\Delta T$.**\n",
    "\n",
    "What is the heat transfer rate, in units of cal/cm$^2$\\*min from a flat plate $1$ meter long and of temperature 80$^o$C, if a stream of water passes over it at a velocity of 1.45 m/s? The water temperature is 70$^o$F. Water properties are $\\mu=0.979$ centipoise, $\\rho=62.3$ lb/ft$^3$, $k=0.347$ Btu/(hr\\*ft\\*$^o$F) and $c_p=0.998$ Btu/lbm*$^o$F.\n",
    "\n",
    "*Hint: $\\Delta T$ is the difference in temperature from the flat plate and the water. Whether it is negative or positive depends on which direction you define as positive. For this problem, it can be negative or positive.*"
   ]
  }
 ],
 "metadata": {
  "kernelspec": {
   "display_name": "Python 3",
   "language": "python",
   "name": "python3"
  },
  "language_info": {
   "codemirror_mode": {
    "name": "ipython",
    "version": 3
   },
   "file_extension": ".py",
   "mimetype": "text/x-python",
   "name": "python",
   "nbconvert_exporter": "python",
   "pygments_lexer": "ipython3",
   "version": "3.5.2"
  }
 },
 "nbformat": 4,
 "nbformat_minor": 1
}
