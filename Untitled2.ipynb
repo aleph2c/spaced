{
 "cells": [
  {
   "cell_type": "markdown",
   "metadata": {},
   "source": [
    "What are the curves used by spaced?"
   ]
  },
  {
   "cell_type": "code",
   "execution_count": 9,
   "metadata": {},
   "outputs": [
    {
     "name": "stdout",
     "output_type": "stream",
     "text": [
      "-0.0003 |                     .................................. \n",
      "        |                .....                                   \n",
      "        |             ...                                        \n",
      "        |           ..                                           \n",
      "        |          /                                             \n",
      "        |         /                                              \n",
      "        |        /                                               \n",
      "        |       /                                                \n",
      "-0.7001 | -----/-------------------------------------------------\n",
      "        |     .                                                  \n",
      "        |                                                        \n",
      "        |    .                                                   \n",
      "        |                                                        \n",
      "        |   .                                                    \n",
      "        |                                                        \n",
      "        |  .                                                     \n",
      "        |                                                        \n",
      "   -1.4 | .                                                      \n",
      "          0                      5                          10\n"
     ]
    }
   ],
   "source": [
    "from sympy import symbols\n",
    "from sympy import exp\n",
    "from sympy.plotting import textplot\n",
    "import numpy as np\n",
    "x = symbols('x')\n",
    "initial = 1.4\n",
    "tau = 1.2\n",
    "y = -1 * 1.4 * exp(-1*x/1.2)\n",
    "textplot(y, 0, 10)\n"
   ]
  },
  {
   "cell_type": "code",
   "execution_count": 11,
   "metadata": {},
   "outputs": [
    {
     "name": "stdout",
     "output_type": "stream",
     "text": [
      "1096.63 |                                                        \n",
      "        |                                                        \n",
      "        |  .                                                     \n",
      "        |                                                        \n",
      "        |   .                                                    \n",
      "        |    .                                                   \n",
      "        |                                                        \n",
      "        |     .                                                  \n",
      "548.884 | -----\\-------------------------------------------------\n",
      "        |       \\                                                \n",
      "        |        \\                                               \n",
      "        |         \\                                              \n",
      "        |          ..                                            \n",
      "        |            \\                                           \n",
      "        |             ...                                        \n",
      "        |                ...                                     \n",
      "        |                   .....                                \n",
      "1.13573 |                        ................................\n",
      "          0                      5                          10\n"
     ]
    }
   ],
   "source": [
    "x = symbols('x')\n",
    "y = exp(-0.7*(x-10))\n",
    "textplot(y, 0, 10)"
   ]
  },
  {
   "cell_type": "code",
   "execution_count": 14,
   "metadata": {},
   "outputs": [
    {
     "name": "stdout",
     "output_type": "stream",
     "text": [
      "0.94754 |                          ............................. \n",
      "        |                 .........                              \n",
      "        |            .....                                       \n",
      "        |         ...                                            \n",
      "        |       ..                                               \n",
      "        |      /                                                 \n",
      "        |     /                                                  \n",
      "        |    /                                                   \n",
      "0.47377 | --.----------------------------------------------------\n",
      "        |                                                        \n",
      "        |                                                        \n",
      "        |  .                                                     \n",
      "        |                                                        \n",
      "        |                                                        \n",
      "        |                                                        \n",
      "        |                                                        \n",
      "        |                                                        \n",
      "      0 | .                                                      \n",
      "          0                      5                          10\n"
     ]
    }
   ],
   "source": [
    "denominator_offset = 1.0\n",
    "root = 1.8\n",
    "y = x**(1/1.8)/((x+1.0)**(1/1.8))\n",
    "textplot(y, 0, 10)"
   ]
  },
  {
   "cell_type": "code",
   "execution_count": 15,
   "metadata": {},
   "outputs": [
    {
     "name": "stdout",
     "output_type": "stream",
     "text": [
      "6.89791 |                                                        \n",
      "        |                                                        \n",
      "        |                                                        \n",
      "        |                                                        \n",
      "        |                                                        \n",
      "        |        .                                               \n",
      "        |                                                        \n",
      "        |         ...                                            \n",
      "0.77734 | -----------............................................\n",
      "        |                                                        \n",
      "        | ....                                                   \n",
      "        |                                                        \n",
      "        |     .                                                  \n",
      "        |                                                        \n",
      "        |                                                        \n",
      "        |                                                        \n",
      "        |                                                        \n",
      "-5.3432 |      .                                                 \n",
      "          0                      5                          10\n"
     ]
    }
   ],
   "source": [
    "denominator_offset = 1.0\n",
    "root = 1.8\n",
    "y = 1.0*((x**root)/((x**root)-1))\n",
    "textplot(y, 0, 10)"
   ]
  }
 ],
 "metadata": {
  "kernelspec": {
   "display_name": "Python 3",
   "language": "python",
   "name": "python3"
  },
  "language_info": {
   "codemirror_mode": {
    "name": "ipython",
    "version": 3
   },
   "file_extension": ".py",
   "mimetype": "text/x-python",
   "name": "python",
   "nbconvert_exporter": "python",
   "pygments_lexer": "ipython3",
   "version": "3.5.2"
  }
 },
 "nbformat": 4,
 "nbformat_minor": 2
}
