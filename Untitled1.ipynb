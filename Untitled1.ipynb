{
 "cells": [
  {
   "cell_type": "code",
   "execution_count": 2,
   "metadata": {},
   "outputs": [
    {
     "data": {
      "text/plain": [
       "2.8284271247461903"
      ]
     },
     "execution_count": 2,
     "metadata": {},
     "output_type": "execute_result"
    }
   ],
   "source": [
    "import math\n",
    "math.sqrt(8)"
   ]
  },
  {
   "cell_type": "code",
   "execution_count": 4,
   "metadata": {},
   "outputs": [
    {
     "data": {
      "text/plain": [
       "2*sqrt(2)"
      ]
     },
     "execution_count": 4,
     "metadata": {},
     "output_type": "execute_result"
    }
   ],
   "source": [
    "import sympy as sym\n",
    "sym.sqrt(8)"
   ]
  },
  {
   "cell_type": "code",
   "execution_count": 7,
   "metadata": {},
   "outputs": [
    {
     "data": {
      "text/plain": [
       "41/20"
      ]
     },
     "execution_count": 7,
     "metadata": {},
     "output_type": "execute_result"
    }
   ],
   "source": [
    "r1 = sym.Rational(4, 5)\n",
    "r2 = sym.Rational(5,4)\n",
    "r1 + r2"
   ]
  },
  {
   "cell_type": "code",
   "execution_count": 8,
   "metadata": {},
   "outputs": [
    {
     "data": {
      "text/plain": [
       "16/25"
      ]
     },
     "execution_count": 8,
     "metadata": {},
     "output_type": "execute_result"
    }
   ],
   "source": [
    "r1/r2\n"
   ]
  },
  {
   "cell_type": "code",
   "execution_count": 9,
   "metadata": {},
   "outputs": [
    {
     "name": "stdout",
     "output_type": "stream",
     "text": [
      "2*x + y\n",
      "2*x + y\n"
     ]
    }
   ],
   "source": [
    "x, y = sym.symbols('x y')\n",
    "exp1 = y + 2 * x\n",
    "exp2 = 2 * x + y\n",
    "print(exp1)\n",
    "print(exp2)"
   ]
  },
  {
   "cell_type": "code",
   "execution_count": 10,
   "metadata": {},
   "outputs": [
    {
     "name": "stdout",
     "output_type": "stream",
     "text": [
      "x + y\n",
      "2*x + y + 1\n"
     ]
    }
   ],
   "source": [
    "print(exp1 - x)\n",
    "print(exp2 + 1)"
   ]
  },
  {
   "cell_type": "code",
   "execution_count": 12,
   "metadata": {},
   "outputs": [
    {
     "name": "stdout",
     "output_type": "stream",
     "text": [
      "x*(2*x + y)\n",
      "2*x**2 + x*y\n"
     ]
    }
   ],
   "source": [
    "print(x*exp1)\n",
    "print(sym.expand(x*exp1))"
   ]
  },
  {
   "cell_type": "code",
   "execution_count": 17,
   "metadata": {},
   "outputs": [
    {
     "data": {
      "image/png": "[encoded data removed]",
      "text/latex": [
       "$$\\theta^{3}$$"
      ],
      "text/plain": [
       " 3\n",
       "θ "
      ]
     },
     "execution_count": 17,
     "metadata": {},
     "output_type": "execute_result"
    }
   ],
   "source": [
    "import sympy as sym\n",
    "sym.init_printing()\n",
    "\n",
    "x, y, z, r, theta, t = sym.symbols('x y z r theta t')\n",
    "theta**3"
   ]
  },
  {
   "cell_type": "code",
   "execution_count": 18,
   "metadata": {},
   "outputs": [
    {
     "data": {
      "image/png": "[encoded data removed]",
      "text/latex": [
       "$$\\int x^{3}\\, dx$$"
      ],
      "text/plain": [
       "⌠      \n",
       "⎮  3   \n",
       "⎮ x  dx\n",
       "⌡      "
      ]
     },
     "execution_count": 18,
     "metadata": {},
     "output_type": "execute_result"
    }
   ],
   "source": [
    "sym.Integral(x**3, x)"
   ]
  },
  {
   "cell_type": "code",
   "execution_count": 24,
   "metadata": {},
   "outputs": [
    {
     "data": {
      "image/png": "[encoded data removed]",
      "text/latex": [
       "$$2 x - y = -4$$"
      ],
      "text/plain": [
       "2⋅x - y = -4"
      ]
     },
     "metadata": {},
     "output_type": "display_data"
    },
    {
     "data": {
      "image/png": "[encoded data removed]",
      "text/latex": [
       "$$3 x - 1 = -2$$"
      ],
      "text/plain": [
       "3⋅x - 1 = -2"
      ]
     },
     "metadata": {},
     "output_type": "display_data"
    },
    {
     "data": {
      "image/png": "[encoded data removed]",
      "text/latex": [
       "$$\\left[\\begin{matrix}2 & -1 & -4\\\\3 & -1 & -2\\end{matrix}\\right]$$"
      ],
      "text/plain": [
       "⎡2  -1  -4⎤\n",
       "⎢         ⎥\n",
       "⎣3  -1  -2⎦"
      ]
     },
     "metadata": {},
     "output_type": "display_data"
    },
    {
     "data": {
      "image/png": "[encoded data removed]",
      "text/latex": [
       "$$\\left \\{ x : 2, \\quad y : 8\\right \\}$$"
      ],
      "text/plain": [
       "{x: 2, y: 8}"
      ]
     },
     "metadata": {},
     "output_type": "display_data"
    }
   ],
   "source": [
    "from sympy import Eq, solve_linear_system, Matrix\n",
    "from numpy import linalg\n",
    "import numpy as np\n",
    "import sympy as sym\n",
    "\n",
    "eq1 = sym.Function('eq1')\n",
    "eq2 = sym.Function('eq2')\n",
    "\n",
    "x, y = sym.symbols('x y')\n",
    "eq1 = Eq(2*x-y, -4)\n",
    "eq2 = Eq(3*x-1, -2)\n",
    "\n",
    "display(eq1)\n",
    "display(eq2)\n",
    "\n",
    "row1 = [2, -1, -4]\n",
    "row2 = [3, -1, -2]\n",
    "system = Matrix((row1, row2))\n",
    "display(system)\n",
    "display(solve_linear_system(system, x, y))"
   ]
  }
 ],
 "metadata": {
  "kernelspec": {
   "display_name": "Python 3",
   "language": "python",
   "name": "python3"
  },
  "language_info": {
   "codemirror_mode": {
    "name": "ipython",
    "version": 3
   },
   "file_extension": ".py",
   "mimetype": "text/x-python",
   "name": "python",
   "nbconvert_exporter": "python",
   "pygments_lexer": "ipython3",
   "version": "3.5.2"
  }
 },
 "nbformat": 4,
 "nbformat_minor": 2
}
